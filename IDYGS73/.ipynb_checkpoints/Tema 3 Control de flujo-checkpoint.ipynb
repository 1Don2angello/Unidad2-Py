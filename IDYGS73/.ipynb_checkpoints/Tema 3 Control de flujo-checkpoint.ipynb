{
 "cells": [
  {
   "cell_type": "markdown",
   "id": "84873d0f",
   "metadata": {},
   "source": [
    "# Estructuras de control"
   ]
  },
  {
   "cell_type": "markdown",
   "id": "0c5062d8",
   "metadata": {},
   "source": [
    "# IF ELIF ELSE "
   ]
  },
  {
   "cell_type": "code",
   "execution_count": 1,
   "id": "878d5ec6",
   "metadata": {},
   "outputs": [
    {
     "name": "stdout",
     "output_type": "stream",
     "text": [
      "hola mundo\n"
     ]
    }
   ],
   "source": [
    "# Indentacion == 4 espacios\n",
    "\n",
    "a = 10\n",
    "b = 5\n",
    "if a>b:\n",
    "    print(\"hola mundo\")\n",
    "else:\n",
    "    print(\"como estas?\")"
   ]
  },
  {
   "cell_type": "code",
   "execution_count": 2,
   "id": "b311d703",
   "metadata": {},
   "outputs": [
    {
     "name": "stdout",
     "output_type": "stream",
     "text": [
      "k= A , v= 4\n",
      "k= E , v= 3\n",
      "k= I , v= 1\n",
      "k= O , v= 0\n",
      "4\n",
      "3\n",
      "1\n",
      "0\n",
      "A\n",
      "E\n",
      "I\n",
      "O\n"
     ]
    }
   ],
   "source": [
    "#For\n",
    "#se basa por rangos y lonjetudes\n",
    "\n",
    "\n",
    "valores = {'A': 4, 'E': 3, 'I': 1, 'O': 0}\n",
    "for k, v in valores.items():\n",
    "    print('k=', k, ', v=', v)\n",
    "    \n",
    "for v in valores.values():\n",
    "    print(v)\n",
    "    \n",
    "for k in valores:\n",
    "    print(k)\n"
   ]
  },
  {
   "cell_type": "code",
   "execution_count": null,
   "id": "25f9c9a2",
   "metadata": {},
   "outputs": [],
   "source": []
  },
  {
   "cell_type": "code",
   "execution_count": null,
   "id": "7f831c19",
   "metadata": {},
   "outputs": [],
   "source": []
  }
 ],
 "metadata": {
  "kernelspec": {
   "display_name": "Python 3 (ipykernel)",
   "language": "python",
   "name": "python3"
  },
  "language_info": {
   "codemirror_mode": {
    "name": "ipython",
    "version": 3
   },
   "file_extension": ".py",
   "mimetype": "text/x-python",
   "name": "python",
   "nbconvert_exporter": "python",
   "pygments_lexer": "ipython3",
   "version": "3.11.4"
  }
 },
 "nbformat": 4,
 "nbformat_minor": 5
}
