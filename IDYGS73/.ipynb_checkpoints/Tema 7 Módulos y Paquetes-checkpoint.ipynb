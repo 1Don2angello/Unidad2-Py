{
 "cells": [
  {
   "cell_type": "markdown",
   "id": "89010bd0",
   "metadata": {},
   "source": [
    "En Python, a medida que los programas crecen, es esencial organizar y modularizar el código. Los módulos y paquetes son herramientas que facilitan esta organización.\n",
    "\n",
    "1. Módulos\n",
    "Un módulo es simplemente un archivo que contiene definiciones y declaraciones de Python. El nombre del archivo es el nombre del módulo con el sufijo .py añadido.\n",
    "\n",
    "Ejemplo:\n",
    "\n",
    "Supongamos que tienes un archivo llamado operaciones.py con el siguiente contenido:"
   ]
  },
  {
   "cell_type": "code",
   "execution_count": 1,
   "id": "b4b91e48",
   "metadata": {},
   "outputs": [
    {
     "name": "stdout",
     "output_type": "stream",
     "text": [
      "14\n"
     ]
    }
   ],
   "source": [
    "#Puedes usar las funciones definidas en el módulo operaciones de la siguiente manera:\n",
    "\n",
    "import operaciones\n",
    "#from operaciones import suma, resta\n",
    "#from operaciones import suma \n",
    "\n",
    "resultado = operaciones.suma(5,9)\n",
    "print(resultado)  # Imprimirá 8"
   ]
  },
  {
   "cell_type": "code",
   "execution_count": 1,
   "id": "3243a669",
   "metadata": {},
   "outputs": [
    {
     "name": "stdout",
     "output_type": "stream",
     "text": [
      "--------\n",
      "1. SUMA\n",
      "2. RESTA\n",
      "3. MULTIPLICACION\n",
      "4. DIVICION\n",
      "5. POTENCIA\n",
      "6. RAIZ\n",
      "--------\n",
      "Introduce Menu: 1\n",
      "--------\n",
      "SUMA\n",
      "--------\n",
      "Introduce un numero1: 1\n",
      "Introduce un numero2: 1\n"
     ]
    },
    {
     "ename": "TypeError",
     "evalue": "'module' object is not callable",
     "output_type": "error",
     "traceback": [
      "\u001b[1;31m---------------------------------------------------------------------------\u001b[0m",
      "\u001b[1;31mTypeError\u001b[0m                                 Traceback (most recent call last)",
      "Cell \u001b[1;32mIn[1], line 26\u001b[0m\n\u001b[0;32m     24\u001b[0m     a \u001b[38;5;241m=\u001b[39m \u001b[38;5;28minput\u001b[39m(\u001b[38;5;124m\"\u001b[39m\u001b[38;5;124mIntroduce un numero1: \u001b[39m\u001b[38;5;124m\"\u001b[39m)\n\u001b[0;32m     25\u001b[0m     b \u001b[38;5;241m=\u001b[39m \u001b[38;5;28minput\u001b[39m(\u001b[38;5;124m\"\u001b[39m\u001b[38;5;124mIntroduce un numero2: \u001b[39m\u001b[38;5;124m\"\u001b[39m)\n\u001b[1;32m---> 26\u001b[0m     resultado \u001b[38;5;241m=\u001b[39m suma(a,b)\n\u001b[0;32m     27\u001b[0m     \u001b[38;5;28mprint\u001b[39m(resultado)  \u001b[38;5;66;03m# Imprimirá suma\u001b[39;00m\n\u001b[0;32m     28\u001b[0m \u001b[38;5;28;01melif\u001b[39;00m menu \u001b[38;5;241m==\u001b[39m \u001b[38;5;241m2\u001b[39m:\n",
      "\u001b[1;31mTypeError\u001b[0m: 'module' object is not callable"
     ]
    }
   ],
   "source": [
    "from paquete import suma, resta, multiplicacion, division, potencia, raiz\n",
    "\n",
    "print(\"--------\")\n",
    "print(\"1. SUMA\")\n",
    "print(\"2. RESTA\")\n",
    "print(\"3. MULTIPLICACION\")\n",
    "print(\"4. DIVICION\")\n",
    "print(\"5. POTENCIA\")\n",
    "print(\"6. RAIZ\")\n",
    "print(\"--------\")\n",
    "menu = input(\"Introduce Menu: \")\n",
    "\n",
    "try:\n",
    "    menu = int(menu)\n",
    "    if menu == 1:\n",
    "        print(\"--------\")\n",
    "        print(\"SUMA\")\n",
    "        print(\"--------\")\n",
    "        a = input(\"Introduce un numero1: \")\n",
    "        b = input(\"Introduce un numero2: \")\n",
    "        resultado = suma(a,b)\n",
    "        print(resultado)  # Imprimirá suma\n",
    "    elif menu == 2:\n",
    "        print(\"--------\")\n",
    "        print(\"RESTA\")\n",
    "        print(\"--------\")\n",
    "        a = input(\"Introduce un numero1: \")\n",
    "        b = input(\"Introduce un numero2: \")\n",
    "        resultado = resta(a,b)\n",
    "        print(resultado)  # Imprimirá resta\n",
    "    elif menu == 3:\n",
    "        print(\"--------\")\n",
    "        print(\"MULTIPLICACION\")\n",
    "        print(\"--------\")\n",
    "        a = input(\"Introduce un numero1: \")\n",
    "        b = input(\"Introduce un numero2: \")\n",
    "        resultado = multiplicacion(a,b)\n",
    "        print(resultado)  # Imprimirá multiplicacion\n",
    "    elif menu == 4:\n",
    "        print(\"--------\")\n",
    "        print(\"DIVISION\")\n",
    "        print(\"--------\")\n",
    "        a = input(\"Introduce un numero1: \")\n",
    "        b = input(\"Introduce un numero2: \")\n",
    "        resultado = division(a,b)\n",
    "        print(resultado)  # Imprimirá division\n",
    "    elif menu == 5:\n",
    "        print(\"--------\")\n",
    "        print(\"POTENCIA\")\n",
    "        print(\"--------\")\n",
    "        a = input(\"Introduce un numero1: \")\n",
    "        #b = input(\"Introduce un numero2: \")\n",
    "        resultado = elevado(a)\n",
    "        print(resultado)  # Imprimirá potencia\n",
    "    elif menu == 6:\n",
    "        print(\"--------\")\n",
    "        print(\"RAIZ\")\n",
    "        print(\"--------\")\n",
    "        a = input(\"Introduce un numero1: \")\n",
    "        #b = input(\"Introduce un numero2: \")\n",
    "        resultado = raiz(a)\n",
    "        print(resultado)  # Imprimirá potencia\n",
    "\n",
    "    #a = input(\"Introduce un numero1: \")\n",
    "    #b = input(\"Introduce un numero2: \")\n",
    "    #numero = int(input(\"Introduce un número: \"))\n",
    "except ZeroDivisionError:\n",
    "    print(\"No puedes dividir por cero.\")\n",
    "except ValueError:\n",
    "    print(\"Debes ingresar un número válido.\")\n",
    "    \n"
   ]
  },
  {
   "cell_type": "code",
   "execution_count": null,
   "id": "cd520230",
   "metadata": {},
   "outputs": [],
   "source": []
  }
 ],
 "metadata": {
  "kernelspec": {
   "display_name": "Python 3 (ipykernel)",
   "language": "python",
   "name": "python3"
  },
  "language_info": {
   "codemirror_mode": {
    "name": "ipython",
    "version": 3
   },
   "file_extension": ".py",
   "mimetype": "text/x-python",
   "name": "python",
   "nbconvert_exporter": "python",
   "pygments_lexer": "ipython3",
   "version": "3.11.4"
  }
 },
 "nbformat": 4,
 "nbformat_minor": 5
}
