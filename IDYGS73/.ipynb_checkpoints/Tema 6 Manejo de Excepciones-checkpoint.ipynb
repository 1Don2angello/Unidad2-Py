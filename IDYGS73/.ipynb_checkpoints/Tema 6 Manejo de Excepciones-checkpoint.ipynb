{
 "cells": [
  {
   "cell_type": "markdown",
   "id": "bbd7dfcb",
   "metadata": {},
   "source": [
    "En la programación, es común encontrar errores inesperados durante la ejecución. El manejo de excepciones permite que el programa se recupere de estos errores y continúe su ejecución en lugar de detenerse por completo.\n",
    "\n",
    "1. ¿Qué es una excepción?\n",
    "Una excepción es un evento que ocurre durante la ejecución de un programa y que interrumpe el flujo normal del programa. Las excepciones en Python son objetos que representan errores.\n"
   ]
  },
  {
   "cell_type": "code",
   "execution_count": 6,
   "id": "23b125bc",
   "metadata": {},
   "outputs": [
    {
     "name": "stdout",
     "output_type": "stream",
     "text": [
      "Introduce un número: 0\n",
      "No puedes dividir por cero.\n"
     ]
    }
   ],
   "source": [
    "#2. Bloque try y except\n",
    "#Si sabes que un bloque de código puede causar un error, puedes colocarlo en un bloque try y manejar el error en el bloque except.\n",
    "#Ejemplo:\n",
    "\n",
    "try:\n",
    "    numero = int(input(\"Introduce un número: \"))\n",
    "    resultado = 10 / numero\n",
    "    print(resultado)\n",
    "except ZeroDivisionError:\n",
    "    print(\"No puedes dividir por cero.\")\n",
    "except ValueError:\n",
    "    print(\"Debes ingresar un número válido.\")\n",
    "    \n",
    "#En el ejemplo anterior, si el usuario introduce 0 se lanzará una ZeroDivisionError y si introduce una letra o palabra se lanzará una ValueError."
   ]
  },
  {
   "cell_type": "code",
   "execution_count": 9,
   "id": "22153836",
   "metadata": {},
   "outputs": [
    {
     "name": "stdout",
     "output_type": "stream",
     "text": [
      "Introduce un número: A\n",
      "Debes ingresar un número válido.\n"
     ]
    }
   ],
   "source": [
    "#3. Bloque else\n",
    "#Se puede usar un bloque else después del except. Este bloque se ejecutará si no se lanzó ninguna excepción en el bloque try.\n",
    "\n",
    "try:\n",
    "    numero = int(input(\"Introduce un número: \"))\n",
    "except ValueError:\n",
    "    print(\"Debes ingresar un número válido.\")\n",
    "else:\n",
    "    print(f\"Has introducido el número {numero}.\")\n",
    "\n"
   ]
  },
  {
   "cell_type": "code",
   "execution_count": 11,
   "id": "4852d10c",
   "metadata": {},
   "outputs": [
    {
     "name": "stdout",
     "output_type": "stream",
     "text": [
      "El archivo no se encuentra.\n"
     ]
    },
    {
     "ename": "NameError",
     "evalue": "name 'f' is not defined",
     "output_type": "error",
     "traceback": [
      "\u001b[1;31m---------------------------------------------------------------------------\u001b[0m",
      "\u001b[1;31mNameError\u001b[0m                                 Traceback (most recent call last)",
      "Cell \u001b[1;32mIn[11], line 10\u001b[0m\n\u001b[0;32m      8\u001b[0m     \u001b[38;5;28mprint\u001b[39m(\u001b[38;5;124m\"\u001b[39m\u001b[38;5;124mEl archivo no se encuentra.\u001b[39m\u001b[38;5;124m\"\u001b[39m)\n\u001b[0;32m      9\u001b[0m \u001b[38;5;28;01mfinally\u001b[39;00m:\n\u001b[1;32m---> 10\u001b[0m     f\u001b[38;5;241m.\u001b[39mclose()\n",
      "\u001b[1;31mNameError\u001b[0m: name 'f' is not defined"
     ]
    }
   ],
   "source": [
    "#4. Bloque finally\n",
    "#Este bloque se ejecuta siempre, independientemente de si se lanza o no una excepción. Es útil para la limpieza, como cerrar archivos o liberar recursos.\n",
    "\n",
    "try:\n",
    "    f = open(\"archivo.txt\")\n",
    "    # procesar el archivo\n",
    "except FileNotFoundError:\n",
    "    print(\"El archivo no se encuentra.\")\n",
    "finally:\n",
    "    f.close()\n",
    "    \n",
    "    "
   ]
  },
  {
   "cell_type": "code",
   "execution_count": 15,
   "id": "e21f7ecc",
   "metadata": {},
   "outputs": [
    {
     "name": "stdout",
     "output_type": "stream",
     "text": [
      "Introduce el primer número: 1\n",
      "Introduce el segundo número: 0\n",
      "No puedes dividir por cero.\n"
     ]
    }
   ],
   "source": [
    "#Ejercicio práctico 1: \n",
    "#Escribe un programa que solicite al usuario dos números y muestre la división de ambos, manejando posibles errores.\n",
    "\n",
    "try:\n",
    "    num1 = float(input(\"Introduce el primer número: \"))\n",
    "    num2 = float(input(\"Introduce el segundo número: \"))\n",
    "    resultado = num1 / num2\n",
    "    print(f\"El resultado es: {resultado}\")\n",
    "except ZeroDivisionError:\n",
    "    print(\"No puedes dividir por cero.\")\n",
    "except ValueError:\n",
    "    print(\"Debes ingresar números válidos.\")"
   ]
  },
  {
   "cell_type": "code",
   "execution_count": 12,
   "id": "5b44a7d8",
   "metadata": {},
   "outputs": [
    {
     "name": "stdout",
     "output_type": "stream",
     "text": [
      "Error: No se pudo abrir el archivo porque no existe.\n"
     ]
    }
   ],
   "source": [
    "#Ejercicio práctico 2:\n",
    "#Escribe un programa que intente abrir un archivo que no existe y maneje el error mostrando un mensaje personalizado al usuario.\n",
    "\n",
    "try:\n",
    "    f = open(\"archivo_inexistente.txt\", \"r\")\n",
    "except FileNotFoundError:\n",
    "    print(\"Error: No se pudo abrir el archivo porque no existe.\")"
   ]
  },
  {
   "cell_type": "markdown",
   "id": "d0d69a0c",
   "metadata": {},
   "source": [
    "El manejo adecuado de excepciones es esencial para desarrollar aplicaciones robustas y resistentes a errores. A través de este mecanismo, los programas pueden reaccionar adecuadamente a situaciones inesperadas y garantizar una experiencia más fluida para el usuario."
   ]
  },
  {
   "cell_type": "code",
   "execution_count": 19,
   "id": "bc4d13fc",
   "metadata": {},
   "outputs": [],
   "source": [
    "#EJERCICIO\n",
    "personajes = [\"goku\",\"vegeta\",\"gohan\",\"Broly\",\"Trunk\",\"Goten\",\"chabelo\"]"
   ]
  },
  {
   "cell_type": "code",
   "execution_count": 27,
   "id": "7e81b39b",
   "metadata": {},
   "outputs": [
    {
     "ename": "SyntaxError",
     "evalue": "invalid syntax (2967187540.py, line 6)",
     "output_type": "error",
     "traceback": [
      "\u001b[1;36m  Cell \u001b[1;32mIn[27], line 6\u001b[1;36m\u001b[0m\n\u001b[1;33m    except NameError as b:\u001b[0m\n\u001b[1;37m    ^\u001b[0m\n\u001b[1;31mSyntaxError\u001b[0m\u001b[1;31m:\u001b[0m invalid syntax\n"
     ]
    }
   ],
   "source": [
    "def obtener_personaje(indice):\n",
    "    try:\n",
    "        return personajes[indice]\n",
    "    except IndexError:\n",
    "        return \"El indice del personaje no existe!\"\n",
    "        except NameError as b:\n",
    "            return f\"name {b} is not defined!\"\n",
    "    except Exception as e:\n",
    "        return f\"Error desconocido: {e}\"\n",
    "    \n",
    "print(obtener_personaje(a))\n"
   ]
  },
  {
   "cell_type": "code",
   "execution_count": 28,
   "id": "94cab3db",
   "metadata": {},
   "outputs": [
    {
     "name": "stdout",
     "output_type": "stream",
     "text": [
      "gohan\n"
     ]
    }
   ],
   "source": [
    "personajes = [\"goku\", \"vegeta\", \"gohan\", \"Broly\", \"Trunk\", \"Goten\", \"chabelo\"]\n",
    "\n",
    "def obtener_personaje(indice):\n",
    "    try:\n",
    "        return personajes[indice]\n",
    "    except IndexError:\n",
    "        return \"El índice del personaje no existe!\"\n",
    "    except NameError as b:\n",
    "        return f\"NameError: {b} is not defined!\"\n",
    "    except Exception as e:\n",
    "        return f\"Error desconocido: {e}\"\n",
    "\n",
    "# Define un valor para \"a\" antes de llamar a la función\n",
    "a = 2\n",
    "\n",
    "print(obtener_personaje(a))\n"
   ]
  },
  {
   "cell_type": "code",
   "execution_count": null,
   "id": "666d82d2",
   "metadata": {},
   "outputs": [],
   "source": []
  }
 ],
 "metadata": {
  "kernelspec": {
   "display_name": "Python 3 (ipykernel)",
   "language": "python",
   "name": "python3"
  },
  "language_info": {
   "codemirror_mode": {
    "name": "ipython",
    "version": 3
   },
   "file_extension": ".py",
   "mimetype": "text/x-python",
   "name": "python",
   "nbconvert_exporter": "python",
   "pygments_lexer": "ipython3",
   "version": "3.11.4"
  }
 },
 "nbformat": 4,
 "nbformat_minor": 5
}
