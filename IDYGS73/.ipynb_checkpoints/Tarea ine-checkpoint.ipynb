{
 "cells": [
  {
   "cell_type": "markdown",
   "id": "7b0395a6",
   "metadata": {},
   "source": [
    "tarea: crear un programa que me solicite todos los datos de la ine, y que me los almacene en un diccionario, posteriomente se van obtener los datos del diccionario y se va guardar de manera estructura en un archivo txt"
   ]
  },
  {
   "cell_type": "code",
   "execution_count": 1,
   "id": "3b1970d2",
   "metadata": {},
   "outputs": [
    {
     "name": "stdout",
     "output_type": "stream",
     "text": [
      "Ingrese su nombre: angel\n",
      "Ingrese su matrícula: 21393149\n",
      "Ingrese su edad: 19\n",
      "Ingrese su carrera: tsu\n",
      "Datos guardados con éxito!\n"
     ]
    }
   ],
   "source": [
    "# Solicitar datos\n",
    "datos = {}\n",
    "datos['nombre'] = input(\"Ingrese su nombre: \")\n",
    "datos['matricula'] = input(\"Ingrese su matrícula: \")\n",
    "datos['edad'] = input(\"Ingrese su edad: \")\n",
    "datos['carrera'] = input(\"Ingrese su carrera: \")\n",
    "\n",
    "# Guardar datos en un archivo de texto\n",
    "with open(\"identificacion_escolar.txt\", \"w\") as archivo:\n",
    "    for clave, valor in datos.items():\n",
    "        archivo.write(f\"{clave}: {valor}\\n\")\n",
    "\n",
    "print(\"Datos guardados con éxito!\")\n"
   ]
  },
  {
   "cell_type": "code",
   "execution_count": 4,
   "id": "5f437a3b",
   "metadata": {},
   "outputs": [
    {
     "name": "stdout",
     "output_type": "stream",
     "text": [
      "Ingrese su nombre: angel\n",
      "Ingrese su apellido paterno: agnel\n",
      "Ingrese su apellido materno: perez\n",
      "Ingrese su domicilio: jkkk\n",
      "Ingrese su clave de elector: kkk\n",
      "Ingrese su curp: kkk\n",
      "Ingrese su fecha de nacimiento (dd/mm/aaaa): 12 14 2003\n",
      "Ingrese su sección electoral: 12345\n",
      "Ingrese su año de registro: 1234\n",
      "Ingrese su año de vigencia: 123\n",
      "Datos guardados con éxito!\n"
     ]
    }
   ],
   "source": [
    "# Solicitar datos\n",
    "datos_ine = {}\n",
    "datos_ine['nombre_com'] = input(\"Ingrese su nombre: \")\n",
    "datos_ine['ap_paterno'] = input(\"Ingrese su apellido paterno: \")\n",
    "datos_ine['ap_materno'] = input(\"Ingrese su apellido materno: \")\n",
    "datos_ine['domicilio'] = input(\"Ingrese su domicilio: \")\n",
    "datos_ine['clave_elector'] = input(\"Ingrese su clave de elector: \")\n",
    "\n",
    "datos_ine['clave_curp'] = input(\"Ingrese su curp: \")\n",
    "datos_ine['fecha_nacimiento'] = input(\"Ingrese su fecha de nacimiento (dd/mm/aaaa): \")\n",
    "\n",
    "datos_ine['seccion_electoral'] = input(\"Ingrese su sección electoral: \")\n",
    "datos_ine['anio_registro'] = input(\"Ingrese su año de registro: \")\n",
    "datos_ine['a_vigencia'] = input(\"Ingrese su año de vigencia: \")\n",
    "\n",
    "# Guardar datos en un archivo de texto\n",
    "with open(\"datos_ine11.txt\", \"w\") as archivo:\n",
    "    for clave, valor in datos_ine.items():\n",
    "        archivo.write(f\"{clave}: {valor}\\n\")\n",
    "\n",
    "print(\"Datos guardados con éxito!\")\n"
   ]
  },
  {
   "cell_type": "code",
   "execution_count": 5,
   "id": "65f78e46",
   "metadata": {},
   "outputs": [
    {
     "name": "stdout",
     "output_type": "stream",
     "text": [
      "nombre_con_nombres: angel\n",
      "ap_paterno: agnel\n",
      "ap_materno: perez\n",
      "domicilio: jkkk\n",
      "clave_elector: kkk\n",
      "clave_curp: kkk\n",
      "fecha_nacimiento: 12 14 2003\n",
      "seccion_electoral: 12345\n",
      "anio_registro: 1234\n",
      "a_vigencia: 123\n",
      "\n"
     ]
    }
   ],
   "source": [
    "archivo = open (\"datos_ine11.txt\",\"r\")\n",
    "contenido = archivo.read()\n",
    "print (contenido)"
   ]
  },
  {
   "cell_type": "code",
   "execution_count": null,
   "id": "e8b67ebd",
   "metadata": {},
   "outputs": [],
   "source": []
  }
 ],
 "metadata": {
  "kernelspec": {
   "display_name": "Python 3 (ipykernel)",
   "language": "python",
   "name": "python3"
  },
  "language_info": {
   "codemirror_mode": {
    "name": "ipython",
    "version": 3
   },
   "file_extension": ".py",
   "mimetype": "text/x-python",
   "name": "python",
   "nbconvert_exporter": "python",
   "pygments_lexer": "ipython3",
   "version": "3.11.4"
  }
 },
 "nbformat": 4,
 "nbformat_minor": 5
}
