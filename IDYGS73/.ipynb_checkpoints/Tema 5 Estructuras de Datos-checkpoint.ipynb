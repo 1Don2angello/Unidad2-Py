{
 "cells": [
  {
   "cell_type": "markdown",
   "id": "55ecbcc0",
   "metadata": {},
   "source": [
    "# 1. Listas"
   ]
  },
  {
   "cell_type": "code",
   "execution_count": 1,
   "id": "d05fae4c",
   "metadata": {},
   "outputs": [],
   "source": [
    "#Son estructuras de datos ordenadas y modificables, que pueden contener múltiples valores, incluso de diferentes tipos.\n",
    "\n",
    "#Ejemplo:\n",
    "\n",
    "frutas = [\"manzana\", \"banana\", \"cereza\"]\n",
    "numeros = [1, 2, 3, 4, 5]\n",
    "mixto = [\"texto\", 123, True, 3.14]"
   ]
  },
  {
   "cell_type": "code",
   "execution_count": 4,
   "id": "4fbef68b",
   "metadata": {},
   "outputs": [
    {
     "name": "stdout",
     "output_type": "stream",
     "text": [
      "uva\n"
     ]
    }
   ],
   "source": [
    "#Acceso y modificación:\n",
    "\n",
    "print(frutas[1])       # Imprime \"manzana\"\n",
    "frutas[1] = \"uva\"      # Cambia \"banana\" por \"uva\""
   ]
  },
  {
   "cell_type": "code",
   "execution_count": 5,
   "id": "e8cfafe8",
   "metadata": {},
   "outputs": [
    {
     "data": {
      "text/plain": [
       "'naranja'"
      ]
     },
     "execution_count": 5,
     "metadata": {},
     "output_type": "execute_result"
    }
   ],
   "source": [
    "#Métodos comunes:\n",
    "\n",
    "frutas.append(\"naranja\")    # Agrega un elemento al final\n",
    "frutas.remove(\"manzana\")    # Elimina un elemento específico\n",
    "frutas.pop()                # Elimina el último elemento"
   ]
  },
  {
   "cell_type": "markdown",
   "id": "3ff670fe",
   "metadata": {},
   "source": [
    "# 2. Tuplas"
   ]
  },
  {
   "cell_type": "code",
   "execution_count": null,
   "id": "392283c4",
   "metadata": {},
   "outputs": [],
   "source": [
    "#Son similares a las listas, pero son inmutables, es decir, no puedes modificar su contenido una vez creado.\n",
    "\n",
    "#Ejemplo:\n",
    "\n",
    "colores = (\"rojo\", \"verde\", \"azul\")"
   ]
  },
  {
   "cell_type": "code",
   "execution_count": null,
   "id": "1b3233ee",
   "metadata": {},
   "outputs": [],
   "source": [
    "#Acceso:\n",
    "\n",
    "print(colores[1])    # Imprime \"verde\""
   ]
  },
  {
   "cell_type": "markdown",
   "id": "c698333a",
   "metadata": {},
   "source": [
    "# 3. Conjuntos (Sets)"
   ]
  },
  {
   "cell_type": "code",
   "execution_count": null,
   "id": "bc4556bb",
   "metadata": {},
   "outputs": [],
   "source": [
    "#Son colecciones no ordenadas y sin elementos duplicados.\n",
    "\n",
    "#Ejemplo:\n",
    "\n",
    "animales = {\"gato\", \"perro\", \"pez\"}\n",
    "\n",
    "\n",
    "#Métodos comunes:\n",
    "\n",
    "animales.add(\"pájaro\")     # Agrega un elemento\n",
    "animales.remove(\"pez\")     # Elimina un elemento\n"
   ]
  },
  {
   "cell_type": "code",
   "execution_count": 9,
   "id": "e4c16505",
   "metadata": {},
   "outputs": [
    {
     "name": "stdout",
     "output_type": "stream",
     "text": [
      "{'verde', 'rojo'}\n"
     ]
    }
   ],
   "source": [
    "#conjuntos (sets) {}\n",
    "colores = {\"amarillo\",\"verde\"}\n",
    "colores.add (\"rojo\")\n",
    "colores.remove (\"amarillo\")\n",
    "print (colores)"
   ]
  },
  {
   "cell_type": "markdown",
   "id": "9f4a1e35",
   "metadata": {},
   "source": [
    "# 4. Diccionarios"
   ]
  },
  {
   "cell_type": "code",
   "execution_count": 3,
   "id": "daebcf4c",
   "metadata": {},
   "outputs": [
    {
     "name": "stdout",
     "output_type": "stream",
     "text": [
      "Juan\n"
     ]
    }
   ],
   "source": [
    "#Son colecciones no ordenadas de pares clave-valor.\n",
    "\n",
    "#Ejemplo:\n",
    "\n",
    "persona = {\n",
    "    \"nombre\": \"Juan\",\n",
    "    \"edad\": 25,\n",
    "    \"ciudad\": \"Madrid\"\n",
    "}\n",
    "#Acceso y modificación:\n",
    "\n",
    "print(persona[\"nombre\"])    # Imprime \"Juan\"\n",
    "persona[\"edad\"] = 26        # Modifica el valor de \"edad\""
   ]
  },
  {
   "cell_type": "code",
   "execution_count": 2,
   "id": "3ab4030d",
   "metadata": {},
   "outputs": [],
   "source": [
    "#diccionarios\n",
    "INE = {\n",
    "    \"nombre\":\"luis\",\n",
    "    \"edad\": 24,\n",
    "    \"a_paterno\":\"PP\",\n",
    "    \"a_materno\":\"AA\",\n",
    "    \"estatura\":1.76,\n",
    "    \"peso\":80\n",
    "}\n"
   ]
  },
  {
   "cell_type": "code",
   "execution_count": 10,
   "id": "1bae22d9",
   "metadata": {},
   "outputs": [
    {
     "name": "stdout",
     "output_type": "stream",
     "text": [
      "IMC: 25.826446280991735\n",
      "Resultado del IMC: obeso y gordo\n"
     ]
    }
   ],
   "source": [
    "# funciones\n",
    "def imc(peso,estatura):\n",
    "    resultado = peso/estatura**2\n",
    "    return resultado\n",
    "   \n",
    "def resultado_imc(resultado):\n",
    "    if resultado <= 18.5:\n",
    "        resultado_imc1 = \"bajo\"\n",
    "    elif resultado >= 18.5 and resultado <= 24.9:\n",
    "        resultado_imc1 = \"normal\"\n",
    "    elif resultado >= 25 and resultado <= 29.9:\n",
    "        resultado_imc1 = \"obeso y gordo\"\n",
    "    elif resultado >= 30:\n",
    "        resultado_imc1 = \"obeso, apareces en kilos mortales\"\n",
    "    return resultado_imc1\n",
    "\n",
    "\n",
    "# Calcula el IMC\n",
    "imc_resultado = imc(INE[\"peso\"], INE[\"estatura\"])\n",
    "print(\"IMC:\", imc_resultado)\n",
    "\n",
    "# Determina el resultado del IMC\n",
    "resultado = resultado_imc(imc_resultado)\n",
    "print(\"Resultado del IMC:\", resultado)\n"
   ]
  },
  {
   "cell_type": "code",
   "execution_count": 1,
   "id": "88c9370a",
   "metadata": {},
   "outputs": [
    {
     "name": "stdout",
     "output_type": "stream",
     "text": [
      "Forrest Gump\n"
     ]
    }
   ],
   "source": [
    "#Ejercicio práctico 1: Crea una lista con tus películas favoritas y muestra la tercera película en la lista.\n",
    "\n",
    "peliculas = [\"El Padrino\", \"Matrix\", \"Forrest Gump\"]\n",
    "print(peliculas[2])  # Imprime \"Forrest Gump\""
   ]
  },
  {
   "cell_type": "code",
   "execution_count": 2,
   "id": "44092eb9",
   "metadata": {},
   "outputs": [
    {
     "name": "stdout",
     "output_type": "stream",
     "text": [
      "El promedio es: 86.5\n"
     ]
    }
   ],
   "source": [
    "#Ejercicio práctico 2: Dado un diccionario que guarda las calificaciones de un estudiante, calcula el promedio.\n",
    "\n",
    "calificaciones = {\n",
    "    \"matemáticas\": 90,\n",
    "    \"historia\": 85,\n",
    "    \"física\": 78,\n",
    "    \"química\": 93\n",
    "}\n",
    "\n",
    "promedio = sum(calificaciones.values()) / len(calificaciones)\n",
    "print(f\"El promedio es: {promedio}\")"
   ]
  },
  {
   "cell_type": "code",
   "execution_count": null,
   "id": "b2bf49c5",
   "metadata": {},
   "outputs": [],
   "source": [
    "#Ejercicio práctico 3: Crea un conjunto con tus hobbies y agrega uno nuevo.\n",
    "\n",
    "hobbies = {\"leer\", \"correr\", \"cocinar\"}\n",
    "hobbies.add(\"bailar\")\n",
    "print(hobbies)\n",
    "\n",
    "#Las estructuras de datos son esenciales en programación para organizar la información de manera efectiva, \n",
    "#permitiendo operaciones más rápidas y eficientes sobre ella.\n",
    "\n"
   ]
  },
  {
   "cell_type": "markdown",
   "id": "573551c5",
   "metadata": {},
   "source": [
    "# Manipulación de Cadenas"
   ]
  },
  {
   "cell_type": "code",
   "execution_count": 3,
   "id": "f3eb5ea4",
   "metadata": {},
   "outputs": [
    {
     "name": "stdout",
     "output_type": "stream",
     "text": [
      "c\n",
      "a\n",
      "ipt\n"
     ]
    }
   ],
   "source": [
    "#1. Acceso a caracteres y slicing\n",
    "#Las cadenas en Python son secuencias de caracteres y se pueden acceder a ellos usando índices.\n",
    "\n",
    "#Ejemplo:\n",
    "\n",
    "texto = \"criptografia\"\n",
    "print(texto[0])  # c\n",
    "print(texto[-1])  # a\n",
    "print(texto[2:5])  # ipt"
   ]
  },
  {
   "cell_type": "markdown",
   "id": "a8779a10",
   "metadata": {},
   "source": [
    "# 2. Métodos comunes\n",
    "Python ofrece una variedad de métodos para trabajar con cadenas:"
   ]
  },
  {
   "cell_type": "code",
   "execution_count": 4,
   "id": "c11e4591",
   "metadata": {},
   "outputs": [
    {
     "name": "stdout",
     "output_type": "stream",
     "text": [
      "['Hola', 'Mundo']\n"
     ]
    }
   ],
   "source": [
    "#split(): Divide una cadena en una lista de subcadenas basándose en un delimitador.\n",
    "\n",
    "frase = \"Hola Mundo\"\n",
    "palabras = frase.split()\n",
    "print(palabras)  # ['Hola', 'Mundo']"
   ]
  },
  {
   "cell_type": "code",
   "execution_count": 5,
   "id": "13d549a4",
   "metadata": {},
   "outputs": [
    {
     "name": "stdout",
     "output_type": "stream",
     "text": [
      "Hola Mundo\n"
     ]
    }
   ],
   "source": [
    "#join(): Une una lista de cadenas en una única cadena.\n",
    "\n",
    "palabras = ['Hola', 'Mundo']\n",
    "frase = ' '.join(palabras)\n",
    "print(frase)  # Hola Mundo"
   ]
  },
  {
   "cell_type": "code",
   "execution_count": null,
   "id": "b6068e25",
   "metadata": {},
   "outputs": [],
   "source": [
    "#replace(): Reemplaza una subcadena con otra.\n",
    "\n",
    "saludo = \"Hola Mundo\"\n",
    "saludo_modificado = saludo.replace(\"Mundo\", \"Python\")\n",
    "print(saludo_modificado)  # Hola Python"
   ]
  },
  {
   "cell_type": "code",
   "execution_count": null,
   "id": "f46b32b2",
   "metadata": {},
   "outputs": [],
   "source": [
    "#upper(), lower(): Convierten la cadena a mayúsculas o minúsculas.\n",
    "\n",
    "texto = \"Python\"\n",
    "print(texto.upper())  # PYTHON\n",
    "print(texto.lower())  # python"
   ]
  },
  {
   "cell_type": "markdown",
   "id": "0179dcef",
   "metadata": {},
   "source": [
    "# 3. Codificación de caracteres y bytes\n",
    "Dado que estamos hablando de criptografía, es crucial comprender cómo funcionan las codificaciones y cómo convertir cadenas a bytes y viceversa."
   ]
  },
  {
   "cell_type": "code",
   "execution_count": null,
   "id": "0b8ba8da",
   "metadata": {},
   "outputs": [],
   "source": [
    "#str.encode(): Convierte una cadena a bytes.\n",
    "\n",
    "texto = \"Python\"\n",
    "bytes_texto = texto.encode('utf-8')\n",
    "print(bytes_texto)  # b'Python'"
   ]
  },
  {
   "cell_type": "code",
   "execution_count": 6,
   "id": "11c4c4ab",
   "metadata": {},
   "outputs": [
    {
     "name": "stdout",
     "output_type": "stream",
     "text": [
      "Python\n"
     ]
    }
   ],
   "source": [
    "#bytes.decode(): Convierte bytes a una cadena.\n",
    "\n",
    "bytes_texto = b'Python'\n",
    "texto = bytes_texto.decode('utf-8')\n",
    "print(texto)  # Python"
   ]
  },
  {
   "cell_type": "code",
   "execution_count": 7,
   "id": "aa9d6be4",
   "metadata": {},
   "outputs": [
    {
     "name": "stdout",
     "output_type": "stream",
     "text": [
      "manzana banana cereza\n"
     ]
    }
   ],
   "source": [
    "#Ejercicio práctico 1: Dada una cadena que contiene palabras separadas por comas (ej. \"manzana,banana,cereza\"),\n",
    "#conviértela en una lista y luego únela nuevamente en una cadena separada por espacios.\n",
    "\n",
    "# Dada una cadena de entrada\n",
    "cadena = \"manzana,banana,cereza\"\n",
    "\n",
    "# Convertir la cadena en una lista\n",
    "lista_palabras = cadena.split(\",\")\n",
    "\n",
    "# Convertir la lista nuevamente en una cadena, pero separada por espacios\n",
    "cadena_final = \" \".join(lista_palabras)\n",
    "\n",
    "# Mostrar la cadena final\n",
    "print(cadena_final)\n"
   ]
  },
  {
   "cell_type": "code",
   "execution_count": 8,
   "id": "8716990a",
   "metadata": {},
   "outputs": [
    {
     "name": "stdout",
     "output_type": "stream",
     "text": [
      "Mensaje en bytes: b'\\xc2\\xa1Hola Mundo!'\n",
      "Mensaje decodificado: ¡Hola Mundo!\n"
     ]
    }
   ],
   "source": [
    "#Ejercicio práctico 2: Convierte el mensaje \"¡Hola Mundo!\" a bytes y luego decodifícalo de nuevo a una cadena.\n",
    "\n",
    "# Dado un mensaje\n",
    "mensaje = \"¡Hola Mundo!\"\n",
    "\n",
    "# Convertir el mensaje a bytes\n",
    "mensaje_bytes = mensaje.encode('utf-8')\n",
    "\n",
    "# Decodificar los bytes de nuevo a una cadena\n",
    "mensaje_decodificado = mensaje_bytes.decode('utf-8')\n",
    "\n",
    "# Mostrar el mensaje en bytes y luego decodificado\n",
    "print(\"Mensaje en bytes:\", mensaje_bytes)\n",
    "print(\"Mensaje decodificado:\", mensaje_decodificado)\n"
   ]
  },
  {
   "cell_type": "code",
   "execution_count": null,
   "id": "0f3e0480",
   "metadata": {},
   "outputs": [],
   "source": []
  }
 ],
 "metadata": {
  "kernelspec": {
   "display_name": "Python 3 (ipykernel)",
   "language": "python",
   "name": "python3"
  },
  "language_info": {
   "codemirror_mode": {
    "name": "ipython",
    "version": 3
   },
   "file_extension": ".py",
   "mimetype": "text/x-python",
   "name": "python",
   "nbconvert_exporter": "python",
   "pygments_lexer": "ipython3",
   "version": "3.11.4"
  }
 },
 "nbformat": 4,
 "nbformat_minor": 5
}
