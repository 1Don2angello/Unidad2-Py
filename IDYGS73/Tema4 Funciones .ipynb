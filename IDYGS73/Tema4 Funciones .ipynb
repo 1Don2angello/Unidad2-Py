{
 "cells": [
  {
   "cell_type": "code",
   "execution_count": 1,
   "id": "c9f4fc36",
   "metadata": {},
   "outputs": [
    {
     "name": "stdout",
     "output_type": "stream",
     "text": [
      "15\n",
      "6\n",
      "19\n"
     ]
    }
   ],
   "source": [
    "def suma (arg1,arg2):\n",
    "    suma = arg1 +arg2;\n",
    "    print (suma)\n",
    "    \n",
    "suma (5,10)\n",
    "suma (5,1)\n",
    "suma (9,10)\n"
   ]
  },
  {
   "cell_type": "code",
   "execution_count": 6,
   "id": "0ba68994",
   "metadata": {},
   "outputs": [
    {
     "name": "stdout",
     "output_type": "stream",
     "text": [
      "(┬┬﹏┬┬)\n",
      "me quiere (^///^)╰(*°▽°*)╯\n"
     ]
    }
   ],
   "source": [
    "def mequieres (respuesta):\n",
    "    if (respuesta == \"si\"):\n",
    "        print (\"me quiere (^///^)╰(*°▽°*)╯\")\n",
    "    else:\n",
    "        print (\"(┬┬﹏┬┬)\")\n",
    "\n",
    "mequieres(\"no\")\n",
    "mequieres(\"si\")"
   ]
  },
  {
   "cell_type": "markdown",
   "id": "19255894",
   "metadata": {},
   "source": [
    "# 1. Definición y llamada a funciones\n",
    "# a) Definir una función:\n",
    "\n",
    "## Usa la palabra clave def seguida del nombre de la función y paréntesis."
   ]
  },
  {
   "cell_type": "code",
   "execution_count": 1,
   "id": "e730f035",
   "metadata": {},
   "outputs": [],
   "source": [
    "def saludo():\n",
    "    print(\"¡Hola!\")"
   ]
  },
  {
   "cell_type": "markdown",
   "id": "507cd933",
   "metadata": {},
   "source": [
    "## b) Llamar a una función:\n",
    "\n",
    "Una vez que la función ha sido definida, puedes \"llamarla\" o \"invocarla\" desde cualquier lugar de tu código."
   ]
  },
  {
   "cell_type": "code",
   "execution_count": 2,
   "id": "533c7e11",
   "metadata": {
    "scrolled": true
   },
   "outputs": [
    {
     "name": "stdout",
     "output_type": "stream",
     "text": [
      "¡Hola!\n"
     ]
    }
   ],
   "source": [
    "saludo()  # Esto imprimirá \"¡Hola!\" en la pantalla."
   ]
  },
  {
   "cell_type": "markdown",
   "id": "61f3fa0e",
   "metadata": {},
   "source": [
    "# 2. Argumentos y valores de retorno\n",
    "a) Funciones con argumentos:\n",
    "\n",
    "Puedes pasar valores a una función mediante argumentos."
   ]
  },
  {
   "cell_type": "code",
   "execution_count": 3,
   "id": "74e6af97",
   "metadata": {},
   "outputs": [
    {
     "name": "stdout",
     "output_type": "stream",
     "text": [
      "¡Hola, Juan!\n"
     ]
    }
   ],
   "source": [
    "def saludo_personalizado(nombre):\n",
    "    print(f\"¡Hola, {nombre}!\")\n",
    "    \n",
    "saludo_personalizado(\"Juan\")  # Esto imprimirá \"¡Hola, Juan!\" en la pantalla."
   ]
  },
  {
   "cell_type": "markdown",
   "id": "b2bd5b5f",
   "metadata": {},
   "source": [
    "# b) Funciones que retornan valores:\n",
    "\n",
    "Usa la palabra clave return para enviar un valor de regreso al lugar donde se llamó a la función."
   ]
  },
  {
   "cell_type": "code",
   "execution_count": 5,
   "id": "62e53f4c",
   "metadata": {},
   "outputs": [
    {
     "name": "stdout",
     "output_type": "stream",
     "text": [
      "7\n"
     ]
    }
   ],
   "source": [
    "def suma(a, b):\n",
    "    return a + b\n",
    "resultado = suma(3, 4)\n",
    "print(resultado)  # Esto imprimirá \"7\" en la pantalla."
   ]
  },
  {
   "cell_type": "markdown",
   "id": "a8b4d6a1",
   "metadata": {},
   "source": [
    "# 3. Funciones lambda\n",
    "Son funciones pequeñas y anónimas que pueden tener cualquier número de argumentos, pero solo una expresión. La expresión es evaluada y retornada."
   ]
  },
  {
   "cell_type": "code",
   "execution_count": 6,
   "id": "dac42748",
   "metadata": {},
   "outputs": [
    {
     "name": "stdout",
     "output_type": "stream",
     "text": [
      "15\n"
     ]
    }
   ],
   "source": [
    "multiplica = lambda a, b: a * b\n",
    "\n",
    "print(multiplica(5, 3))  # Esto imprimirá \"15\" en la pantalla."
   ]
  },
  {
   "cell_type": "markdown",
   "id": "0ac21ae0",
   "metadata": {},
   "source": [
    "# Ejercicio práctico 1: Crea una función que reciba una lista de números y retorne el mayor de ellos."
   ]
  },
  {
   "cell_type": "code",
   "execution_count": 7,
   "id": "7cab5072",
   "metadata": {},
   "outputs": [
    {
     "name": "stdout",
     "output_type": "stream",
     "text": [
      "8\n"
     ]
    }
   ],
   "source": [
    "def numero_mayor(lista):\n",
    "    return max(lista)\n",
    "\n",
    "numeros = [3, 1, 8, 4, 6]\n",
    "print(numero_mayor(numeros))  # Esto imprimirá \"8\" en la pantalla."
   ]
  },
  {
   "cell_type": "markdown",
   "id": "f761c43a",
   "metadata": {},
   "source": [
    "# Ejercicio práctico 2: Crea una función que convierta grados Celsius a Fahrenheit."
   ]
  },
  {
   "cell_type": "code",
   "execution_count": 8,
   "id": "7e118edd",
   "metadata": {},
   "outputs": [
    {
     "name": "stdout",
     "output_type": "stream",
     "text": [
      "77.0\n"
     ]
    }
   ],
   "source": [
    "def celsius_a_fahrenheit(celsius):\n",
    "    return (celsius * 9/5) + 32\n",
    "\n",
    "grados_c = 25\n",
    "print(celsius_a_fahrenheit(grados_c))  # Esto imprimirá \"77.0\" en la pantalla."
   ]
  },
  {
   "cell_type": "markdown",
   "id": "83084be3",
   "metadata": {},
   "source": [
    "# Ejercicio práctico 3: Usa una función lambda para calcular el área de un rectángulo."
   ]
  },
  {
   "cell_type": "code",
   "execution_count": 9,
   "id": "a931d19d",
   "metadata": {},
   "outputs": [
    {
     "name": "stdout",
     "output_type": "stream",
     "text": [
      "15\n"
     ]
    }
   ],
   "source": [
    "area_rectangulo = lambda largo, ancho: largo * ancho\n",
    "\n",
    "l = 5\n",
    "a = 3\n",
    "print(area_rectangulo(l, a))  # Esto imprimirá \"15\" en la pantalla."
   ]
  },
  {
   "cell_type": "markdown",
   "id": "07c3b673",
   "metadata": {},
   "source": [
    "Las funciones son una herramienta esencial en programación para organizar y reutilizar el código, y son especialmente útiles a medida que los proyectos crecen en tamaño y complejidad."
   ]
  },
  {
   "cell_type": "code",
   "execution_count": null,
   "id": "c9d24d5e",
   "metadata": {},
   "outputs": [],
   "source": []
  }
 ],
 "metadata": {
  "kernelspec": {
   "display_name": "Python 3 (ipykernel)",
   "language": "python",
   "name": "python3"
  },
  "language_info": {
   "codemirror_mode": {
    "name": "ipython",
    "version": 3
   },
   "file_extension": ".py",
   "mimetype": "text/x-python",
   "name": "python",
   "nbconvert_exporter": "python",
   "pygments_lexer": "ipython3",
   "version": "3.11.4"
  }
 },
 "nbformat": 4,
 "nbformat_minor": 5
}
