{
 "cells": [
  {
   "cell_type": "markdown",
   "id": "52e3acd0",
   "metadata": {},
   "source": [
    "# Estructuras de control"
   ]
  },
  {
   "cell_type": "markdown",
   "id": "a2c81dac",
   "metadata": {},
   "source": [
    "# IF ELIF ELSE "
   ]
  },
  {
   "cell_type": "code",
   "execution_count": 1,
   "id": "a6ae6159",
   "metadata": {},
   "outputs": [
    {
     "name": "stdout",
     "output_type": "stream",
     "text": [
      "hola mundo\n"
     ]
    }
   ],
   "source": [
    "# Indentacion == 4 espacios\n",
    "\n",
    "a = 10\n",
    "b = 5\n",
    "if a>b:\n",
    "    print(\"hola mundo\")\n",
    "else:\n",
    "    print(\"como estas?\")"
   ]
  },
  {
   "cell_type": "code",
   "execution_count": 2,
   "id": "411e0be3",
   "metadata": {},
   "outputs": [
    {
     "name": "stdout",
     "output_type": "stream",
     "text": [
      "k= A , v= 4\n",
      "k= E , v= 3\n",
      "k= I , v= 1\n",
      "k= O , v= 0\n",
      "4\n",
      "3\n",
      "1\n",
      "0\n",
      "A\n",
      "E\n",
      "I\n",
      "O\n"
     ]
    }
   ],
   "source": [
    "#For\n",
    "#se basa por rangos y lonjetudes\n",
    "\n",
    "\n",
    "valores = {'A': 4, 'E': 3, 'I': 1, 'O': 0}\n",
    "for k, v in valores.items():\n",
    "    print('k=', k, ', v=', v)\n",
    "    \n",
    "for v in valores.values():\n",
    "    print(v)\n",
    "    \n",
    "for k in valores:\n",
    "    print(k)\n"
   ]
  },
  {
   "cell_type": "code",
   "execution_count": 2,
   "id": "2d2d7ff7",
   "metadata": {},
   "outputs": [
    {
     "name": "stdout",
     "output_type": "stream",
     "text": [
      "inicio: 1\n",
      "final: 10\n",
      "avance: 2\n",
      "1\n",
      "3\n",
      "5\n",
      "7\n",
      "9\n"
     ]
    }
   ],
   "source": [
    "inicio = int (input (\"inicio: \"))\n",
    "final = int (input (\"final: \"))\n",
    "avance = int (input (\"avance: \"))\n",
    "\n",
    "for i in range (inicio,final,avance):\n",
    "    print(i)\n",
    "    "
   ]
  },
  {
   "cell_type": "code",
   "execution_count": null,
   "id": "0fb8668c",
   "metadata": {},
   "outputs": [],
   "source": [
    "n = int(input(\"Introduce un número: \"))\n",
    "suma = 0\n",
    "\n",
    "for i in range(1, n+1):\n",
    "    suma += i\n",
    "\n",
    "print(f\"La suma de los números del 1 al {n} es: {suma}\")"
   ]
  },
  {
   "cell_type": "code",
   "execution_count": null,
   "id": "5f75b5d6",
   "metadata": {},
   "outputs": [],
   "source": [
    "#tabla infinita\n",
    "\n",
    "#el usuario va a definir el multiplicando y el multiplicador \n",
    "#y el multiplicador\n",
    "# y el tamaño de la tabla\n",
    "\n",
    "inicio = int (input (\"ingrese el numero de la tabla: \"))\n",
    "final = 1 +int (input (\"ingrese el final de la tabla: \"))\n",
    "avance = int (input (\"avance de?: \"))\n",
    "inicio2 = int (input (\"ingresa el inicio de la tabla: \"))\n",
    "final2 = 1 + int (input (\"ingresa el final de la tabla: \"))\n",
    "for i in range (inicio,final,avance):\n",
    "    print (\"--\")\n",
    "    for j in range (inicio2,final2,avance):\n",
    "        print(f\"{i} X {j} = {i*j}\" )\n",
    "        \n",
    "    "
   ]
  },
  {
   "cell_type": "code",
   "execution_count": null,
   "id": "cf610139",
   "metadata": {},
   "outputs": [],
   "source": [
    "#tabla infinita\n",
    "\n",
    "#el usuario va a definir el multiplicando y el multiplicador \n",
    "#y el multiplicador\n",
    "# y el tamaño de la tabla\n",
    "\n",
    "inicio = int (input (\"ingrese el numero de la tabla: \"))\n",
    "final = 1 +int (input (\"ingrese el final de la tabla: \"))\n",
    "avance = int (input (\"avance de?: \"))\n",
    "inicio2 = int (input (\"ingresa el inicio de la tabla: \"))\n",
    "final2 = 1 + int (input (\"ingresa el final de la tabla: \"))\n",
    "for i in range (inicio,final,avance):\n",
    "    print (\"--\")\n",
    "    for j in range (inicio2,final2,avance):\n",
    "        print(f\"{i} X {j} = {i*j}\" )"
   ]
  },
  {
   "cell_type": "code",
   "execution_count": 1,
   "id": "0d5e236b",
   "metadata": {},
   "outputs": [
    {
     "name": "stdout",
     "output_type": "stream",
     "text": [
      "ingrese el numero de la tabla: 1\n",
      "ingrese el final de la tabla: 2\n",
      "ingresa el inicio de la tabla: 1\n",
      "ingresa el final de la tabla: 10\n",
      "\n",
      "\n",
      "1 X 1 = 1\n",
      "1 X 2 = 2\n",
      "1 X 3 = 3\n",
      "1 X 4 = 4\n",
      "1 X 5 = 5\n",
      "1 X 6 = 6\n",
      "1 X 7 = 7\n",
      "1 X 8 = 8\n",
      "1 X 9 = 9\n",
      "1 X 10 = 10\n",
      "\n",
      "\n",
      "2 X 1 = 2\n",
      "2 X 2 = 4\n",
      "2 X 3 = 6\n",
      "2 X 4 = 8\n",
      "2 X 5 = 10\n",
      "2 X 6 = 12\n",
      "2 X 7 = 14\n",
      "2 X 8 = 16\n",
      "2 X 9 = 18\n",
      "2 X 10 = 20\n"
     ]
    }
   ],
   "source": [
    "#tabla infinita\n",
    "\n",
    "#el usuario va a definir el multiplicando y el multiplicador \n",
    "#y el multiplicador\n",
    "# y el tamaño de la tabla\n",
    "\n",
    "inicio = int (input (\"ingrese el numero de la tabla: \"))\n",
    "final = 1 +int (input (\"ingrese el final de la tabla: \"))\n",
    "\n",
    "inicio2 = int (input (\"ingresa el inicio de la tabla: \"))\n",
    "final2 = 1 + int (input (\"ingresa el final de la tabla: \"))\n",
    "for i in range (inicio,final):\n",
    "    print (\"\\n\")\n",
    "    for j in range (inicio2,final2):\n",
    "        print(f\"{i} X {j} = {i*j}\" )"
   ]
  },
  {
   "cell_type": "code",
   "execution_count": null,
   "id": "ad53666e",
   "metadata": {},
   "outputs": [],
   "source": [
    "#"
   ]
  }
 ],
 "metadata": {
  "kernelspec": {
   "display_name": "Python 3 (ipykernel)",
   "language": "python",
   "name": "python3"
  },
  "language_info": {
   "codemirror_mode": {
    "name": "ipython",
    "version": 3
   },
   "file_extension": ".py",
   "mimetype": "text/x-python",
   "name": "python",
   "nbconvert_exporter": "python",
   "pygments_lexer": "ipython3",
   "version": "3.11.4"
  }
 },
 "nbformat": 4,
 "nbformat_minor": 5
}
