{
 "cells": [
  {
   "cell_type": "markdown",
   "id": "5fe0ab3d",
   "metadata": {},
   "source": [
    "Python facilita la lectura y escritura de archivos. Esta capacidad es crucial para muchas aplicaciones, desde el procesamiento de datos hasta la configuración de programas.\n",
    "\n",
    "1. Apertura de archivos\n",
    "El método open() es la clave para manipular archivos en Python.\n",
    "\n",
    "Ejemplo:"
   ]
  },
  {
   "cell_type": "code",
   "execution_count": null,
   "id": "cbed1239",
   "metadata": {},
   "outputs": [],
   "source": [
    "archivo = open(\"ejemplo.txt\", \"r\")  # Abre el archivo en modo lectura"
   ]
  },
  {
   "cell_type": "markdown",
   "id": "d41a66b7",
   "metadata": {},
   "source": [
    "Los modos comunes son:\n",
    "\n",
    "\"r\": Lectura (por defecto).\n",
    "\"w\": Escritura (sobrescribe el archivo si ya existe).\n",
    "\"a\": Añadir (agrega contenido al final del archivo si ya existe).\n",
    "\"b\": Modo binario (se utiliza junto con otros modos, como \"rb\" o \"wb\").\n",
    "2. Leer archivos\n",
    "Ejemplo:"
   ]
  },
  {
   "cell_type": "code",
   "execution_count": null,
   "id": "feaf8fe3",
   "metadata": {},
   "outputs": [],
   "source": [
    "contenido = archivo.read()  # Lee todo el contenido\n",
    "print(contenido)"
   ]
  },
  {
   "cell_type": "code",
   "execution_count": null,
   "id": "2de43897",
   "metadata": {},
   "outputs": [],
   "source": [
    "#También puedes leer una línea a la vez o todas las líneas como una lista:\n",
    "\n",
    "linea = archivo.readline()\n",
    "lineas = archivo.readlines()"
   ]
  },
  {
   "cell_type": "code",
   "execution_count": null,
   "id": "8cef7e7b",
   "metadata": {},
   "outputs": [],
   "source": [
    "#3. Escribir en archivos\n",
    "archivo = open(\"ejemplo.txt\", \"w\")\n",
    "archivo.write(\"Hola mundo!\")\n",
    "archivo.close()"
   ]
  },
  {
   "cell_type": "code",
   "execution_count": null,
   "id": "eddf2db1",
   "metadata": {},
   "outputs": [],
   "source": [
    "#4. Cerrar archivos\n",
    "Es importante cerrar archivos después de usarlos para liberar recursos:\n",
    "\n",
    "archivo.close()"
   ]
  },
  {
   "cell_type": "code",
   "execution_count": null,
   "id": "ea4c8859",
   "metadata": {},
   "outputs": [],
   "source": [
    "#5. Uso de with\n",
    "La declaración with se utiliza para simplificar el manejo de excepciones y asegurarse de que los archivos se cierren adecuadamente:\n",
    "\n",
    "with open(\"ejemplo.txt\", \"r\") as archivo:\n",
    "    contenido = archivo.read()\n",
    "    print(contenido)\n",
    "# El archivo se cierra automáticamente después del bloque 'with'"
   ]
  },
  {
   "cell_type": "code",
   "execution_count": null,
   "id": "be7b119a",
   "metadata": {},
   "outputs": [],
   "source": [
    "#Ejercicio práctico 1: Crea un programa que escriba una lista de tareas en un archivo y luego lo lea y muestre en pantalla.\n",
    "\n",
    "escritura.py:\n",
    "\n",
    "tareas = [\"Comprar leche\", \"Estudiar Python\", \"Hacer ejercicio\"]\n",
    "\n",
    "with open(\"tareas.txt\", \"w\") as archivo:\n",
    "    for tarea in tareas:\n",
    "        archivo.write(tarea + \"\\n\")"
   ]
  },
  {
   "cell_type": "code",
   "execution_count": null,
   "id": "65f2cbc2",
   "metadata": {},
   "outputs": [],
   "source": [
    "lectura.py:\n",
    "\n",
    "with open(\"tareas.txt\", \"r\") as archivo:\n",
    "    lineas = archivo.readlines()\n",
    "    for linea in lineas:\n",
    "        print(linea.strip())"
   ]
  },
  {
   "cell_type": "code",
   "execution_count": null,
   "id": "3dfc4801",
   "metadata": {},
   "outputs": [],
   "source": [
    "#Ejercicio práctico 2: Modifica el programa anterior para que el usuario pueda añadir una nueva tarea al archivo.\n",
    "\n",
    "nueva_tarea = input(\"Introduce una nueva tarea: \")\n",
    "\n",
    "with open(\"tareas.txt\", \"a\") as archivo:\n",
    "    archivo.write(nueva_tarea + \"\\n\")"
   ]
  },
  {
   "cell_type": "markdown",
   "id": "d6fc49ad",
   "metadata": {},
   "source": [
    "La capacidad de leer y escribir archivos permite a los programas interactuar con datos almacenados de manera persistente y es fundamental para muchas aplicaciones prácticas."
   ]
  },
  {
   "cell_type": "code",
   "execution_count": 3,
   "id": "03ec7046",
   "metadata": {},
   "outputs": [
    {
     "name": "stdout",
     "output_type": "stream",
     "text": [
      "hola mundo jsjsjs\n"
     ]
    }
   ],
   "source": [
    "archivo = open (\"holamundo.txt\",\"r\")\n",
    "contenido = archivo.read()\n",
    "print (contenido)"
   ]
  },
  {
   "cell_type": "code",
   "execution_count": null,
   "id": "4921ce69",
   "metadata": {},
   "outputs": [],
   "source": [
    "archivo = open (\"holamundo.txt\",\"r\")\n",
    "contenido = archivo.read()\n",
    "print (contenido)"
   ]
  }
 ],
 "metadata": {
  "kernelspec": {
   "display_name": "Python 3 (ipykernel)",
   "language": "python",
   "name": "python3"
  },
  "language_info": {
   "codemirror_mode": {
    "name": "ipython",
    "version": 3
   },
   "file_extension": ".py",
   "mimetype": "text/x-python",
   "name": "python",
   "nbconvert_exporter": "python",
   "pygments_lexer": "ipython3",
   "version": "3.11.4"
  }
 },
 "nbformat": 4,
 "nbformat_minor": 5
}
