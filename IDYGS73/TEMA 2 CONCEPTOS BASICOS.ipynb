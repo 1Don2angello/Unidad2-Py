{
 "cells": [
  {
   "cell_type": "markdown",
   "id": "2330a7cd",
   "metadata": {},
   "source": [
    "# 1. Variables y tipos de datos"
   ]
  },
  {
   "cell_type": "code",
   "execution_count": 13,
   "id": "f14202af",
   "metadata": {},
   "outputs": [
    {
     "name": "stdout",
     "output_type": "stream",
     "text": [
      "hola, soy luis rejon tengo 33años y mi altura es de 1.76m\n",
      "<class 'str'>\n",
      "<class 'str'>\n",
      "<class 'str'>\n",
      "<class 'int'>\n",
      "<class 'bool'>\n",
      "<class 'bool'>\n"
     ]
    }
   ],
   "source": [
    "# Tipo de datos\n",
    "\n",
    "nombre = 'luis'\n",
    "ap_paterno = \"rejon\"\n",
    "ap_materno = \"\"\"villafaña\"\"\"\n",
    "edad = 33\n",
    "altura = 1.76\n",
    "es_estudiante = False\n",
    "es_docente = True\n",
    "print(f\"hola, soy {nombre} {ap_paterno} tengo {edad}años y mi altura es de {altura}m\")\n",
    "print(type(nombre))\n",
    "print(type(ap_paterno))\n",
    "print(type(ap_materno))\n",
    "print(type(edad))\n",
    "print(type(es_estudiante))\n",
    "print(type(es_docente))\n"
   ]
  },
  {
   "cell_type": "markdown",
   "id": "d8af0aad",
   "metadata": {},
   "source": [
    "# 2. operadores"
   ]
  },
  {
   "cell_type": "code",
   "execution_count": 11,
   "id": "ea134c3e",
   "metadata": {},
   "outputs": [],
   "source": [
    "a = 10\n",
    "b = 3\n",
    "\n",
    "suma = a + b\n",
    "resta = a - b\n",
    "multiplicacion = a * b\n",
    "division = a / b\n",
    "modulo = a % b  # Retorna el residuo de la divisió"
   ]
  },
  {
   "cell_type": "code",
   "execution_count": 8,
   "id": "fb8bc510",
   "metadata": {},
   "outputs": [
    {
     "data": {
      "text/plain": [
       "False"
      ]
     },
     "execution_count": 8,
     "metadata": {},
     "output_type": "execute_result"
    }
   ],
   "source": [
    "# b) De comparación: Se usan para comparar valores.\n",
    "a == b  # Igual a\n",
    "a != b  # Diferente de\n",
    "a > b   # Mayor que\n",
    "a < b   # Menor que\n",
    "a >= b  # Mayor o igual que\n",
    "a <= b  # Menor o igual que"
   ]
  },
  {
   "cell_type": "code",
   "execution_count": 14,
   "id": "159fb1b1",
   "metadata": {},
   "outputs": [
    {
     "name": "stdout",
     "output_type": "stream",
     "text": [
      "False\n"
     ]
    }
   ],
   "source": [
    "#c) Lógicos: Se usan para combinar condiciones.\n",
    "x = True\n",
    "y = False\n",
    "\n",
    "resultado_and = x and y  # True si x e y son verdaderos\n",
    "resultado_or = x or y   # True si al menos uno es verdadero\n",
    "resultado_not = not x   # True si x es falso, y viceversa\n",
    "print (resultado_not)"
   ]
  },
  {
   "cell_type": "markdown",
   "id": "3376b4fc",
   "metadata": {},
   "source": [
    "# 3. Entrada y salida estándar"
   ]
  },
  {
   "cell_type": "code",
   "execution_count": 15,
   "id": "1f4c14d5",
   "metadata": {},
   "outputs": [
    {
     "name": "stdout",
     "output_type": "stream",
     "text": [
      "¿Cuál es tu nombre? hola\n",
      "Hola, hola!\n"
     ]
    }
   ],
   "source": [
    "#a) Entrada (input()):\n",
    "\n",
    "nombre = input(\"¿Cuál es tu nombre? \")\n",
    "print(f\"Hola, {nombre}!\")"
   ]
  },
  {
   "cell_type": "code",
   "execution_count": 16,
   "id": "bc773e1c",
   "metadata": {},
   "outputs": [
    {
     "name": "stdout",
     "output_type": "stream",
     "text": [
      "Tengo 20 años.\n"
     ]
    }
   ],
   "source": [
    "#b) Salida (print()):\n",
    "\n",
    "edad = 20\n",
    "print(f\"Tengo {edad} años.\")  # Uso de f-strings para formatear salida"
   ]
  },
  {
   "cell_type": "code",
   "execution_count": 17,
   "id": "c7b37e91",
   "metadata": {},
   "outputs": [
    {
     "name": "stdout",
     "output_type": "stream",
     "text": [
      "Introduce tu nombre: hola\n",
      "Introduce tu edad: 11\n",
      "Introduce tu ciudad de origen: ola\n",
      "¡Hola hola! Veo que tienes 11 años y eres de ola.\n"
     ]
    }
   ],
   "source": [
    "#Ejercicio práctico 1: Solicita al usuario ingresar su nombre, edad y ciudad de origen y luego muestra un mensaje personalizado con esos datos.\n",
    "\n",
    "nombre = input(\"Introduce tu nombre: \")\n",
    "edad = input(\"Introduce tu edad: \")\n",
    "ciudad = input(\"Introduce tu ciudad de origen: \")\n",
    "\n",
    "print(f\"¡Hola {nombre}! Veo que tienes {edad} años y eres de {ciudad}.\")"
   ]
  },
  {
   "cell_type": "code",
   "execution_count": 18,
   "id": "ab8e1ad2",
   "metadata": {
    "scrolled": true
   },
   "outputs": [
    {
     "name": "stdout",
     "output_type": "stream",
     "text": [
      "Introduce el primer número: 1\n",
      "Introduce el segundo número: 2\n",
      "Suma: 3.0\n",
      "Resta: -1.0\n",
      "Multiplicación: 2.0\n",
      "División: 0.5\n"
     ]
    }
   ],
   "source": [
    "#Ejercicio práctico 2: Solicita dos números al usuario y muestra la suma, resta, multiplicación y división de esos números.\n",
    "\n",
    "num1 = float(input(\"Introduce el primer número: \"))\n",
    "num2 = float(input(\"Introduce el segundo número: \"))\n",
    "\n",
    "print(f\"Suma: {num1 + num2}\")\n",
    "print(f\"Resta: {num1 - num2}\")\n",
    "print(f\"Multiplicación: {num1 * num2}\")\n",
    "print(f\"División: {num1 / num2}\")"
   ]
  },
  {
   "cell_type": "code",
   "execution_count": 20,
   "id": "18bddbab",
   "metadata": {
    "scrolled": true
   },
   "outputs": [
    {
     "name": "stdout",
     "output_type": "stream",
     "text": [
      "Introduce tu nombre: angel\n",
      "Introduce tu apellido: perez\n",
      "Introduce tu apellido: perez\n",
      "Introduce tu edad: 12\n",
      "Introduce tu altura: 1.70\n",
      "es estudiante?: si\n",
      "es maistro?: si\n",
      "¡Hola angel perezperez! Veo que tienes 12 años y tu altura es de 1.7m. si eres estudiante y si eres docente \n",
      "¡Hola angel perezperez! Veo que tienes 12 años y tu altura es de 1.7m. si eres estudiante y si eres docente \n",
      "si\n",
      "si\n"
     ]
    }
   ],
   "source": [
    "#crear un sistema que ingrese los siguientes datos\n",
    "\n",
    "nombre = input(\"Introduce tu nombre: \")\n",
    "ap_paterno = input(\"Introduce tu apellido: \")\n",
    "ap_materno = input(\"Introduce tu apellido: \")\n",
    "edad = int(input(\"Introduce tu edad: \"))\n",
    "altura = float(input(\"Introduce tu altura: \"))\n",
    "es_estudiante = input(\"es estudiante?: \")\n",
    "es_docente = input(\"es maistro?: \")\n",
    "\n",
    "\n",
    "if es_estudiante == \"si\":\n",
    "    if es_docente == \"si\":\n",
    "        print(f\"¡Hola {nombre} {ap_paterno}{ap_materno}! Veo que tienes {edad} años y tu altura es de {altura}m. {es_estudiante} eres estudiante y {es_docente} eres docente \")\n",
    "if es_estudiante == \"no\":\n",
    "    if es_docente == \"si\":\n",
    "           print(f\"¡Hola {nombre} {ap_paterno}{ap_materno}! Veo que tienes {edad} años y tu altura es de {altura}m.  {es_estudiante} eres estudiante y {es_docente} eres docente \")\n",
    "else:\n",
    "    print(f\"¡Hola {nombre} {ap_paterno}{ap_materno}! Veo que tienes {edad} años y tu altura es de {altura}m. {es_estudiante} eres estudiante y {es_docente} eres docente \")\n",
    "    \n",
    "print(es_estudiante)\n",
    "print(es_docente)"
   ]
  },
  {
   "cell_type": "code",
   "execution_count": 21,
   "id": "0ec7294c",
   "metadata": {},
   "outputs": [
    {
     "name": "stdout",
     "output_type": "stream",
     "text": [
      "Introduce tu nombre: a\n",
      "Introduce tu apellido: b\n",
      "Introduce tu apellido: c\n",
      "Introduce tu edad: 11\n",
      "Introduce tu altura: 1.70\n",
      "es estudiante?: si\n",
      "es maistro?: si\n",
      "¡Hola a bc! Veo que tienes 11 años y tu altura es de 1.7m. False eres estudiante y False eres docente \n"
     ]
    }
   ],
   "source": [
    "nombre = input(\"Introduce tu nombre: \")\n",
    "ap_paterno = input(\"Introduce tu apellido: \")\n",
    "ap_materno = input(\"Introduce tu apellido: \")\n",
    "edad = int(input(\"Introduce tu edad: \"))\n",
    "altura = float(input(\"Introduce tu altura: \"))\n",
    "es_estudiante = input(\"es estudiante?: \").lower\n",
    "es_docente = input(\"es maistro?: \").lower\n",
    "\n",
    "\n",
    "es_estudiante = es_estudiante == \"si\"\n",
    "es_docente = es_docente == \"si\"\n",
    "print(f\"¡Hola {nombre} {ap_paterno}{ap_materno}! Veo que tienes {edad} años y tu altura es de {altura}m. {es_estudiante} eres estudiante y {es_docente} eres docente \")\n",
    "    \n",
    "    "
   ]
  }
 ],
 "metadata": {
  "kernelspec": {
   "display_name": "Python 3 (ipykernel)",
   "language": "python",
   "name": "python3"
  },
  "language_info": {
   "codemirror_mode": {
    "name": "ipython",
    "version": 3
   },
   "file_extension": ".py",
   "mimetype": "text/x-python",
   "name": "python",
   "nbconvert_exporter": "python",
   "pygments_lexer": "ipython3",
   "version": "3.11.4"
  }
 },
 "nbformat": 4,
 "nbformat_minor": 5
}
