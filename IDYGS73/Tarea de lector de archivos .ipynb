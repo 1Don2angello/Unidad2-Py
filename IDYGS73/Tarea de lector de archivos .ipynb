{
 "cells": [
  {
   "cell_type": "code",
   "execution_count": 1,
   "id": "72129d59",
   "metadata": {},
   "outputs": [
    {
     "ename": "ModuleNotFoundError",
     "evalue": "No module named 'docx'",
     "output_type": "error",
     "traceback": [
      "\u001b[1;31m---------------------------------------------------------------------------\u001b[0m",
      "\u001b[1;31mModuleNotFoundError\u001b[0m                       Traceback (most recent call last)",
      "Cell \u001b[1;32mIn[1], line 3\u001b[0m\n\u001b[0;32m      1\u001b[0m \u001b[38;5;28;01mimport\u001b[39;00m \u001b[38;5;21;01mtkinter\u001b[39;00m \u001b[38;5;28;01mas\u001b[39;00m \u001b[38;5;21;01mtk\u001b[39;00m\n\u001b[0;32m      2\u001b[0m \u001b[38;5;28;01mfrom\u001b[39;00m \u001b[38;5;21;01mtkinter\u001b[39;00m \u001b[38;5;28;01mimport\u001b[39;00m filedialog\n\u001b[1;32m----> 3\u001b[0m \u001b[38;5;28;01mfrom\u001b[39;00m \u001b[38;5;21;01mdocx\u001b[39;00m \u001b[38;5;28;01mimport\u001b[39;00m Document\n\u001b[0;32m      4\u001b[0m \u001b[38;5;28;01mimport\u001b[39;00m \u001b[38;5;21;01mopenpyxl\u001b[39;00m\n\u001b[0;32m      5\u001b[0m \u001b[38;5;28;01mimport\u001b[39;00m \u001b[38;5;21;01mfitz\u001b[39;00m  \u001b[38;5;66;03m# Importamos PyMuPDF\u001b[39;00m\n",
      "\u001b[1;31mModuleNotFoundError\u001b[0m: No module named 'docx'"
     ]
    }
   ],
   "source": [
    "import tkinter as tk\n",
    "from tkinter import filedialog\n",
    "from docx import Document\n",
    "import openpyxl\n",
    "import fitz  # Importamos PyMuPDF\n",
    "\n",
    "def abrir_archivo(tipo, archivo):\n",
    "    if tipo == \"Word\":\n",
    "        document = Document(archivo)\n",
    "        for paragraph in document.paragraphs:\n",
    "            print(paragraph.text)\n",
    "    elif tipo == \"Excel\":\n",
    "        workbook = openpyxl.load_workbook(archivo)\n",
    "        sheet = workbook.active\n",
    "        for row in sheet.iter_rows(values_only=True):\n",
    "            print(\" \".join(map(str, row)))\n",
    "    elif tipo == \"PDF\":\n",
    "        pdf_document = fitz.open(archivo)\n",
    "        for page_num in range(len(pdf_document)):\n",
    "            page = pdf_document[page_num]\n",
    "            text = page.get_text()\n",
    "            print(text)\n",
    "    else:\n",
    "        print(\"Tipo de archivo no válido\")\n",
    "\n",
    "def seleccionar_archivo():\n",
    "    archivo = filedialog.askopenfilename(title=\"Seleccionar archivo\", filetypes=[(\"Archivos\", \"*.*\")])\n",
    "    if archivo:\n",
    "        tipo_archivo = archivo.split(\".\")[-1]\n",
    "        if tipo_archivo == \"docx\":\n",
    "            abrir_archivo(\"Word\", archivo)\n",
    "        elif tipo_archivo == \"xlsx\":\n",
    "            abrir_archivo(\"Excel\", archivo)\n",
    "        elif tipo_archivo == \"pdf\":\n",
    "            abrir_archivo(\"PDF\", archivo)\n",
    "        else:\n",
    "            print(\"Tipo de archivo no válido\")\n",
    "\n",
    "def main():\n",
    "    root = tk.Tk()\n",
    "    root.withdraw()  # Ocultar la ventana principal de tkinter\n",
    "    seleccionar_archivo()\n",
    "\n",
    "if __name__ == \"__main__\":\n",
    "    main()\n"
   ]
  },
  {
   "cell_type": "code",
   "execution_count": null,
   "id": "c67c0ed3",
   "metadata": {},
   "outputs": [],
   "source": []
  }
 ],
 "metadata": {
  "kernelspec": {
   "display_name": "Python 3 (ipykernel)",
   "language": "python",
   "name": "python3"
  },
  "language_info": {
   "codemirror_mode": {
    "name": "ipython",
    "version": 3
   },
   "file_extension": ".py",
   "mimetype": "text/x-python",
   "name": "python",
   "nbconvert_exporter": "python",
   "pygments_lexer": "ipython3",
   "version": "3.11.4"
  }
 },
 "nbformat": 4,
 "nbformat_minor": 5
}
